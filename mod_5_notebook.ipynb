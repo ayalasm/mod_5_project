{
 "cells": [
  {
   "cell_type": "markdown",
   "metadata": {},
   "source": [
    "# Salsa/Bachata Classifier"
   ]
  },
  {
   "cell_type": "markdown",
   "metadata": {},
   "source": [
    "We begin by importing necessary packages and loading the cleaned data set."
   ]
  },
  {
   "cell_type": "code",
   "execution_count": 1,
   "metadata": {},
   "outputs": [],
   "source": [
    "# Data manipulation and visualization\n",
    "import pandas as pd\n",
    "import numpy as np\n",
    "import matplotlib.pyplot as plt\n",
    "%matplotlib inline\n",
    "import seaborn as sns\n",
    "sns.set_style('darkgrid')\n",
    "\n",
    "# Helper functions\n",
    "import functions\n",
    "\n",
    "# To load data\n",
    "import pickle\n",
    "\n",
    "# Suppress warnings\n",
    "import warnings\n",
    "warnings.filterwarnings('ignore')\n",
    "\n",
    "# Statistical modeling\n",
    "from sklearn.model_selection import train_test_split, GridSearchCV, cross_val_score\n",
    "from sklearn.tree import DecisionTreeClassifier \n",
    "from sklearn.ensemble import RandomForestClassifier, AdaBoostClassifier\n",
    "from sklearn import metrics\n",
    "from sklearn.metrics import accuracy_score, precision_score, recall_score, f1_score, confusion_matrix\n",
    "from sklearn.preprocessing import StandardScaler, MinMaxScaler\n",
    "from sklearn.linear_model import LogisticRegression"
   ]
  },
  {
   "cell_type": "code",
   "execution_count": 2,
   "metadata": {},
   "outputs": [],
   "source": [
    "# Import dataframe\n",
    "with open('data.pickle', 'rb') as f:\n",
    "    df = pickle.load(f)"
   ]
  },
  {
   "cell_type": "code",
   "execution_count": 3,
   "metadata": {},
   "outputs": [
    {
     "data": {
      "text/html": [
       "<div>\n",
       "<style scoped>\n",
       "    .dataframe tbody tr th:only-of-type {\n",
       "        vertical-align: middle;\n",
       "    }\n",
       "\n",
       "    .dataframe tbody tr th {\n",
       "        vertical-align: top;\n",
       "    }\n",
       "\n",
       "    .dataframe thead th {\n",
       "        text-align: right;\n",
       "    }\n",
       "</style>\n",
       "<table border=\"1\" class=\"dataframe\">\n",
       "  <thead>\n",
       "    <tr style=\"text-align: right;\">\n",
       "      <th></th>\n",
       "      <th>danceability</th>\n",
       "      <th>energy</th>\n",
       "      <th>key</th>\n",
       "      <th>loudness</th>\n",
       "      <th>mode</th>\n",
       "      <th>speechiness</th>\n",
       "      <th>acousticness</th>\n",
       "      <th>instrumentalness</th>\n",
       "      <th>liveness</th>\n",
       "      <th>valence</th>\n",
       "      <th>tempo</th>\n",
       "      <th>id</th>\n",
       "      <th>duration_ms</th>\n",
       "      <th>time_signature</th>\n",
       "      <th>track_name</th>\n",
       "      <th>album_name</th>\n",
       "      <th>artists</th>\n",
       "      <th>release_date</th>\n",
       "      <th>sections</th>\n",
       "      <th>genre</th>\n",
       "    </tr>\n",
       "  </thead>\n",
       "  <tbody>\n",
       "    <tr>\n",
       "      <td>0</td>\n",
       "      <td>0.829</td>\n",
       "      <td>0.702</td>\n",
       "      <td>4</td>\n",
       "      <td>-9.681</td>\n",
       "      <td>0</td>\n",
       "      <td>0.0606</td>\n",
       "      <td>0.509</td>\n",
       "      <td>0.000003</td>\n",
       "      <td>0.0530</td>\n",
       "      <td>0.761</td>\n",
       "      <td>99.989</td>\n",
       "      <td>7J23B2HdvhvZvCM7hyv7ic</td>\n",
       "      <td>259240</td>\n",
       "      <td>4</td>\n",
       "      <td>El Regalito</td>\n",
       "      <td>No Volveré</td>\n",
       "      <td>[Oscar D'León]</td>\n",
       "      <td>2019-11-20</td>\n",
       "      <td>[{'start': 0.0, 'duration': 19.63042, 'confide...</td>\n",
       "      <td>salsa</td>\n",
       "    </tr>\n",
       "    <tr>\n",
       "      <td>1</td>\n",
       "      <td>0.614</td>\n",
       "      <td>0.433</td>\n",
       "      <td>0</td>\n",
       "      <td>-11.940</td>\n",
       "      <td>1</td>\n",
       "      <td>0.0741</td>\n",
       "      <td>0.498</td>\n",
       "      <td>0.000006</td>\n",
       "      <td>0.1650</td>\n",
       "      <td>0.674</td>\n",
       "      <td>118.049</td>\n",
       "      <td>3fS3Uc3P823QWJozrbt4Q0</td>\n",
       "      <td>248680</td>\n",
       "      <td>4</td>\n",
       "      <td>No Volveré</td>\n",
       "      <td>No Volveré</td>\n",
       "      <td>[Oscar D'León]</td>\n",
       "      <td>2019-11-20</td>\n",
       "      <td>[{'start': 0.0, 'duration': 8.28078, 'confiden...</td>\n",
       "      <td>salsa</td>\n",
       "    </tr>\n",
       "    <tr>\n",
       "      <td>2</td>\n",
       "      <td>0.827</td>\n",
       "      <td>0.711</td>\n",
       "      <td>8</td>\n",
       "      <td>-10.970</td>\n",
       "      <td>1</td>\n",
       "      <td>0.0501</td>\n",
       "      <td>0.356</td>\n",
       "      <td>0.000003</td>\n",
       "      <td>0.0535</td>\n",
       "      <td>0.965</td>\n",
       "      <td>97.559</td>\n",
       "      <td>4xIMgxIq1iaKdSNEToN2Bx</td>\n",
       "      <td>220027</td>\n",
       "      <td>4</td>\n",
       "      <td>Enamoraito</td>\n",
       "      <td>No Volveré</td>\n",
       "      <td>[Oscar D'León]</td>\n",
       "      <td>2019-11-20</td>\n",
       "      <td>[{'start': 0.0, 'duration': 26.93821, 'confide...</td>\n",
       "      <td>salsa</td>\n",
       "    </tr>\n",
       "    <tr>\n",
       "      <td>3</td>\n",
       "      <td>0.795</td>\n",
       "      <td>0.779</td>\n",
       "      <td>9</td>\n",
       "      <td>-10.642</td>\n",
       "      <td>0</td>\n",
       "      <td>0.1120</td>\n",
       "      <td>0.340</td>\n",
       "      <td>0.000010</td>\n",
       "      <td>0.1290</td>\n",
       "      <td>0.830</td>\n",
       "      <td>102.962</td>\n",
       "      <td>1w4ExH2EpK0nUpRtD2TfFC</td>\n",
       "      <td>253013</td>\n",
       "      <td>4</td>\n",
       "      <td>Llámame</td>\n",
       "      <td>No Volveré</td>\n",
       "      <td>[Oscar D'León]</td>\n",
       "      <td>2019-11-20</td>\n",
       "      <td>[{'start': 0.0, 'duration': 9.06153, 'confiden...</td>\n",
       "      <td>salsa</td>\n",
       "    </tr>\n",
       "    <tr>\n",
       "      <td>4</td>\n",
       "      <td>0.803</td>\n",
       "      <td>0.470</td>\n",
       "      <td>2</td>\n",
       "      <td>-10.782</td>\n",
       "      <td>1</td>\n",
       "      <td>0.0402</td>\n",
       "      <td>0.433</td>\n",
       "      <td>0.000000</td>\n",
       "      <td>0.0872</td>\n",
       "      <td>0.786</td>\n",
       "      <td>119.960</td>\n",
       "      <td>2pHYBVtJ9cTYkQPPZVFav7</td>\n",
       "      <td>237813</td>\n",
       "      <td>4</td>\n",
       "      <td>Corazón Gitano</td>\n",
       "      <td>No Volveré</td>\n",
       "      <td>[Oscar D'León]</td>\n",
       "      <td>2019-11-20</td>\n",
       "      <td>[{'start': 0.0, 'duration': 17.32051, 'confide...</td>\n",
       "      <td>salsa</td>\n",
       "    </tr>\n",
       "  </tbody>\n",
       "</table>\n",
       "</div>"
      ],
      "text/plain": [
       "   danceability  energy  key  loudness  mode  speechiness  acousticness  \\\n",
       "0         0.829   0.702    4    -9.681     0       0.0606         0.509   \n",
       "1         0.614   0.433    0   -11.940     1       0.0741         0.498   \n",
       "2         0.827   0.711    8   -10.970     1       0.0501         0.356   \n",
       "3         0.795   0.779    9   -10.642     0       0.1120         0.340   \n",
       "4         0.803   0.470    2   -10.782     1       0.0402         0.433   \n",
       "\n",
       "   instrumentalness  liveness  valence    tempo                      id  \\\n",
       "0          0.000003    0.0530    0.761   99.989  7J23B2HdvhvZvCM7hyv7ic   \n",
       "1          0.000006    0.1650    0.674  118.049  3fS3Uc3P823QWJozrbt4Q0   \n",
       "2          0.000003    0.0535    0.965   97.559  4xIMgxIq1iaKdSNEToN2Bx   \n",
       "3          0.000010    0.1290    0.830  102.962  1w4ExH2EpK0nUpRtD2TfFC   \n",
       "4          0.000000    0.0872    0.786  119.960  2pHYBVtJ9cTYkQPPZVFav7   \n",
       "\n",
       "   duration_ms  time_signature      track_name  album_name         artists  \\\n",
       "0       259240               4     El Regalito  No Volveré  [Oscar D'León]   \n",
       "1       248680               4      No Volveré  No Volveré  [Oscar D'León]   \n",
       "2       220027               4      Enamoraito  No Volveré  [Oscar D'León]   \n",
       "3       253013               4         Llámame  No Volveré  [Oscar D'León]   \n",
       "4       237813               4  Corazón Gitano  No Volveré  [Oscar D'León]   \n",
       "\n",
       "  release_date                                           sections  genre  \n",
       "0   2019-11-20  [{'start': 0.0, 'duration': 19.63042, 'confide...  salsa  \n",
       "1   2019-11-20  [{'start': 0.0, 'duration': 8.28078, 'confiden...  salsa  \n",
       "2   2019-11-20  [{'start': 0.0, 'duration': 26.93821, 'confide...  salsa  \n",
       "3   2019-11-20  [{'start': 0.0, 'duration': 9.06153, 'confiden...  salsa  \n",
       "4   2019-11-20  [{'start': 0.0, 'duration': 17.32051, 'confide...  salsa  "
      ]
     },
     "execution_count": 3,
     "metadata": {},
     "output_type": "execute_result"
    }
   ],
   "source": [
    "df.head()"
   ]
  },
  {
   "cell_type": "code",
   "execution_count": 4,
   "metadata": {},
   "outputs": [
    {
     "data": {
      "image/png": "[encoded data removed]",
      "text/plain": [
       "<Figure size 864x720 with 16 Axes>"
      ]
     },
     "metadata": {
      "needs_background": "light"
     },
     "output_type": "display_data"
    }
   ],
   "source": [
    "df.hist(figsize=(12,10));"
   ]
  },
  {
   "cell_type": "markdown",
   "metadata": {},
   "source": [
    "## Feature Engineering"
   ]
  },
  {
   "cell_type": "markdown",
   "metadata": {},
   "source": [
    "The two most accesible engineered features are of musical section analysis. We will feed into the model information about the number of musical sections each song has as well as the average length of these sections. Bachata follows a very typical verse/chorus/verse/chorus structured approach, whereas salsa has a more complex pattern. I expect these traits to make the songs more distinguishable to the model."
   ]
  },
  {
   "cell_type": "code",
   "execution_count": 5,
   "metadata": {},
   "outputs": [],
   "source": [
    "# Create two new columns from the `section` information\n",
    "df['no_of_sectionss'] = df['sections'].map(lambda sections: len(sections))\n",
    "df['avg_section_len'] = df['sections'].map(lambda sections: functions.avg_section_duration(sections))\n",
    "\n",
    "# Create target column\n",
    "df['is_salsa'] = df['genre'].map(lambda x: 1 if x == 'salsa' else 0)\n",
    "\n",
    "# Split up df by genre to compare features\n",
    "salsa_df, bachata_df = df[df['genre'] == 'salsa'], df[df['genre'] == 'bachata']"
   ]
  },
  {
   "cell_type": "markdown",
   "metadata": {},
   "source": [
    "### Plotting engineered features"
   ]
  },
  {
   "cell_type": "code",
   "execution_count": 6,
   "metadata": {},
   "outputs": [
    {
     "data": {
      "image/png": "[encoded data removed]",
      "text/plain": [
       "<Figure size 432x288 with 1 Axes>"
      ]
     },
     "metadata": {
      "needs_background": "light"
     },
     "output_type": "display_data"
    }
   ],
   "source": [
    "plt.hist(salsa_df['no_of_sectionss'],bins = 30, alpha=0.5, label='Salsa',color='red')\n",
    "plt.hist(bachata_df['no_of_sectionss'],bins = 30, alpha=0.6, label='Bachata',color='darkorange')\n",
    "plt.legend(loc='upper right')\n",
    "plt.xlabel('No. of Song Sections')\n",
    "plt.ylabel('No. of Songs')\n",
    "plt.title('No. of Song Sections Distributions')\n",
    "plt.show()"
   ]
  },
  {
   "cell_type": "code",
   "execution_count": 7,
   "metadata": {},
   "outputs": [
    {
     "data": {
      "image/png": "[encoded data removed]",
      "text/plain": [
       "<Figure size 432x288 with 1 Axes>"
      ]
     },
     "metadata": {
      "needs_background": "light"
     },
     "output_type": "display_data"
    }
   ],
   "source": [
    "plt.hist(salsa_df['avg_section_len'],bins = 30, alpha=0.5, label='Salsa',color='red')\n",
    "plt.hist(bachata_df['avg_section_len'],bins = 30, alpha=0.6, label='Bachata',color='darkorange')\n",
    "plt.legend(loc='upper right')\n",
    "plt.xlabel('Average Section Length')\n",
    "plt.ylabel('No. of Songs')\n",
    "plt.title('Average Section Length Distributions')\n",
    "plt.show()"
   ]
  },
  {
   "cell_type": "markdown",
   "metadata": {},
   "source": [
    "Unfortunately, neither of these features seem to be too distinguishable. We will have to see if the models can tell them apart and compare that to modeling the original data set."
   ]
  },
  {
   "cell_type": "markdown",
   "metadata": {},
   "source": [
    "## Statistical Modeling"
   ]
  },
  {
   "cell_type": "code",
   "execution_count": 8,
   "metadata": {},
   "outputs": [],
   "source": [
    "# List of predictors that we want to include in the model\n",
    "predictors = ['danceability', 'energy', 'key', 'loudness', 'mode', 'speechiness',\n",
    "              'acousticness', 'instrumentalness', 'liveness', 'valence', 'tempo',\n",
    "              'duration_ms', 'no_of_sectionss', 'avg_section_len']\n",
    "\n",
    "# Same list as above but remove the two engineered features\n",
    "predictors_no_engineered = list(filter(lambda x: x not in ['no_of_sectionss','avg_section_len'],predictors))\n",
    "\n",
    "# Model target\n",
    "target = ['is_salsa']"
   ]
  },
  {
   "cell_type": "code",
   "execution_count": 9,
   "metadata": {},
   "outputs": [],
   "source": [
    "# Train-test split for data excluding engineered features\n",
    "X = df.loc[:, predictors_no_engineered]\n",
    "y = df.loc[:, target]\n",
    "\n",
    "X_train, X_test, y_train, y_test = train_test_split(X, y, test_size = 0.3, random_state = 1)\n",
    "\n",
    "# Train-test split for data including engineered features\n",
    "X_eng = df.loc[:, predictors]\n",
    "y_eng = df.loc[:, target]\n",
    "\n",
    "X_train_eng, X_test_eng, y_train_eng, y_test_eng = train_test_split(X_eng, y_eng, test_size = 0.3, random_state = 1)"
   ]
  },
  {
   "cell_type": "markdown",
   "metadata": {},
   "source": [
    "### Modeling Engineered Features: Decision Tree and Random Forest"
   ]
  },
  {
   "cell_type": "code",
   "execution_count": 10,
   "metadata": {},
   "outputs": [
    {
     "name": "stdout",
     "output_type": "stream",
     "text": [
      "Optimal Parameters: {'criterion': 'entropy', 'max_depth': None, 'min_samples_leaf': 6, 'min_samples_split': 2}\n",
      "Decision tree grid search without engineered features:  0.9170731707317074\n",
      "\n",
      "Optimal Parameters: {'criterion': 'entropy', 'max_depth': None, 'min_samples_leaf': 3, 'min_samples_split': 5, 'n_estimators': 30}\n",
      "Random forest grid search without engineered features:  0.9390243902439024\n"
     ]
    }
   ],
   "source": [
    "print('Decision tree grid search without engineered features: ', functions.decision_tree_gs(X_train, X_test, y_train, y_test))\n",
    "print(\"\")\n",
    "print('Random forest grid search without engineered features: ', functions.random_forest_gs(X_train, X_test, y_train, y_test))"
   ]
  },
  {
   "cell_type": "code",
   "execution_count": 11,
   "metadata": {},
   "outputs": [
    {
     "name": "stdout",
     "output_type": "stream",
     "text": [
      "Optimal Parameters: {'criterion': 'entropy', 'max_depth': 4, 'min_samples_leaf': 4, 'min_samples_split': 10}\n",
      "Decision tree grid search with engineered features:  0.9121951219512195\n",
      "\n",
      "Optimal Parameters: {'criterion': 'entropy', 'max_depth': None, 'min_samples_leaf': 3, 'min_samples_split': 10, 'n_estimators': 30}\n",
      "Random forest grid search with engineered features:  0.9195121951219513\n"
     ]
    }
   ],
   "source": [
    "print('Decision tree grid search with engineered features: ', functions.decision_tree_gs(X_train_eng, X_test_eng, y_train_eng, y_test_eng))\n",
    "print(\"\")\n",
    "print('Random forest grid search with engineered features: ', functions.random_forest_gs(X_train_eng, X_test_eng, y_train_eng, y_test_eng))"
   ]
  },
  {
   "cell_type": "markdown",
   "metadata": {},
   "source": [
    "The results of these grid searches show us that the the engineered features actually lower the accuracy of the model. This is interesting, as it suggests that the audio analysis data is inaccurate. I played a song and compared how Spotify classifies \"sections\" versus what a musician would perceive as a musical phrase, and I found several inconsitencies. Often times Spotify's algorithm fails to recognize a new musical phrase or will completely mischaracterize the start of a new phrase. This means that any inferences I attempted to engineer were not accurate and cannot actually be achieved by Spotify's current audio analysis data. I would need to generate that data myself, which I don't have time to do under the time constraints of this project.\n",
    "\n",
    "Looking above, the distributions of these variables also clearly show a tremendous amount of overlap between these variables. It makes sense why the model could not distinguish well between them.\n",
    "\n",
    "We will instantiate models for each of the above gridsearch-optimized models for a comparison."
   ]
  },
  {
   "cell_type": "code",
   "execution_count": 12,
   "metadata": {},
   "outputs": [],
   "source": [
    "# Create models based on above parameters other than the non-engineered random forest. These are just to have \n",
    "# for later comparison against other models\n",
    "\n",
    "tree_no_eng = DecisionTreeClassifier(criterion='entropy',\n",
    "                                max_depth=None,\n",
    "                                min_samples_leaf=6,\n",
    "                                min_samples_split=2,\n",
    "                                random_state=1)\n",
    "\n",
    "tree_eng = DecisionTreeClassifier(criterion='entropy',\n",
    "                                max_depth=4,\n",
    "                                min_samples_leaf=4,\n",
    "                                min_samples_split=10,\n",
    "                                random_state=1)\n",
    "\n",
    "forest_no_eng = RandomForestClassifier(criterion='entropy',\n",
    "                                max_depth=None,\n",
    "                                min_samples_leaf=3,\n",
    "                                min_samples_split=5,\n",
    "                                n_estimators=30,\n",
    "                                random_state=1)\n",
    "\n",
    "forest_eng = RandomForestClassifier(criterion='entropy',\n",
    "                                max_depth=None,\n",
    "                                min_samples_leaf=3,\n",
    "                                min_samples_split=10,\n",
    "                                n_estimators=30,\n",
    "                                random_state=1)\n",
    "\n",
    "tree_no_eng.fit(X_train,y_train);\n",
    "tree_eng.fit(X_train_eng, y_train_eng);\n",
    "forest_no_eng.fit(X_train, y_train);\n",
    "forest_eng.fit(X_train_eng, y_train_eng);\n",
    "\n",
    "y_pred_tree_no_eng = tree_no_eng.predict(X_test)\n",
    "y_pred_tree_eng = tree_eng.predict(X_test_eng)\n",
    "y_pred_forest_no_eng = forest_no_eng.predict(X_test)\n",
    "y_pred_forest_eng = forest_eng.predict(X_test_eng)"
   ]
  },
  {
   "cell_type": "markdown",
   "metadata": {},
   "source": [
    "### Logistic Regression no engineered features\n",
    "\n",
    "Since we see the engineered features do not help much, if at all, we will run this model without them entirely. We start by scaling the data and then fitting."
   ]
  },
  {
   "cell_type": "code",
   "execution_count": 13,
   "metadata": {},
   "outputs": [
    {
     "data": {
      "text/plain": [
       "LogisticRegression(C=1000000000000.0, class_weight=None, dual=False,\n",
       "                   fit_intercept=False, intercept_scaling=1, l1_ratio=None,\n",
       "                   max_iter=100, multi_class='warn', n_jobs=None, penalty='l2',\n",
       "                   random_state=None, solver='liblinear', tol=0.0001, verbose=0,\n",
       "                   warm_start=False)"
      ]
     },
     "execution_count": 13,
     "metadata": {},
     "output_type": "execute_result"
    }
   ],
   "source": [
    "X_train_mm_scaled = MinMaxScaler().fit_transform(X_train)\n",
    " \n",
    "logreg = LogisticRegression(fit_intercept=False, C=1e12, solver='liblinear')\n",
    "model_log = logreg.fit(X_train_mm_scaled, y_train)\n",
    "model_log"
   ]
  },
  {
   "cell_type": "code",
   "execution_count": 14,
   "metadata": {},
   "outputs": [],
   "source": [
    "X_test_mm_scaled = MinMaxScaler().fit_transform(X_test)\n",
    "\n",
    "y_hat_test = logreg.predict(X_test_mm_scaled)\n",
    "y_hat_train = logreg.predict(X_train_mm_scaled)"
   ]
  },
  {
   "cell_type": "code",
   "execution_count": 15,
   "metadata": {},
   "outputs": [
    {
     "name": "stdout",
     "output_type": "stream",
     "text": [
      "0    814\n",
      "1    140\n",
      "dtype: int64\n",
      "Log model predicts training data 85.0% of the time\n"
     ]
    }
   ],
   "source": [
    "# We subtract the two columns. If values or equal, difference will be zero. Then count number of zeros \n",
    "residuals_train = np.abs((y_train_eng.values).reshape(1,-1)[0] - y_hat_train)\n",
    "train_counts = pd.Series(residuals_train).value_counts()\n",
    "print(train_counts)\n",
    "print(f\"Log model predicts training data {round(train_counts[0]/(train_counts[0]+train_counts[1]),2)*100}% of the time\")"
   ]
  },
  {
   "cell_type": "code",
   "execution_count": 16,
   "metadata": {},
   "outputs": [
    {
     "name": "stdout",
     "output_type": "stream",
     "text": [
      "0    336\n",
      "1     74\n",
      "dtype: int64\n",
      "Log model predicts training data 82.0 % of the time\n"
     ]
    }
   ],
   "source": [
    "residuals_test = np.abs((y_test_eng.values).reshape(1,-1)[0] - y_hat_test)\n",
    "test_counts = pd.Series(residuals_test).value_counts()\n",
    "print(test_counts)\n",
    "print(f\"Log model predicts training data {round(test_counts[0]/(test_counts[0]+test_counts[1]),2)*100} % of the time\")"
   ]
  },
  {
   "cell_type": "code",
   "execution_count": 17,
   "metadata": {},
   "outputs": [],
   "source": [
    "# Save model predictions on test data for comparison\n",
    "y_pred_log = logreg.predict(X_test_mm_scaled)"
   ]
  },
  {
   "cell_type": "markdown",
   "metadata": {},
   "source": [
    "## Model Comparison"
   ]
  },
  {
   "cell_type": "code",
   "execution_count": 18,
   "metadata": {},
   "outputs": [
    {
     "data": {
      "text/html": [
       "<div>\n",
       "<style scoped>\n",
       "    .dataframe tbody tr th:only-of-type {\n",
       "        vertical-align: middle;\n",
       "    }\n",
       "\n",
       "    .dataframe tbody tr th {\n",
       "        vertical-align: top;\n",
       "    }\n",
       "\n",
       "    .dataframe thead th {\n",
       "        text-align: right;\n",
       "    }\n",
       "</style>\n",
       "<table border=\"1\" class=\"dataframe\">\n",
       "  <thead>\n",
       "    <tr style=\"text-align: right;\">\n",
       "      <th></th>\n",
       "      <th>Accuracy Score</th>\n",
       "      <th>Precision Score</th>\n",
       "      <th>Recall Score</th>\n",
       "      <th>F1 Score</th>\n",
       "    </tr>\n",
       "    <tr>\n",
       "      <th>Model</th>\n",
       "      <th></th>\n",
       "      <th></th>\n",
       "      <th></th>\n",
       "      <th></th>\n",
       "    </tr>\n",
       "  </thead>\n",
       "  <tbody>\n",
       "    <tr>\n",
       "      <td>Decision Tree No Engineered Features</td>\n",
       "      <td>0.917</td>\n",
       "      <td>0.938</td>\n",
       "      <td>0.878</td>\n",
       "      <td>0.907</td>\n",
       "    </tr>\n",
       "    <tr>\n",
       "      <td>Random Forest No Engineered Features</td>\n",
       "      <td>0.939</td>\n",
       "      <td>0.961</td>\n",
       "      <td>0.905</td>\n",
       "      <td>0.932</td>\n",
       "    </tr>\n",
       "    <tr>\n",
       "      <td>Decision Tree With Engineered Features</td>\n",
       "      <td>0.912</td>\n",
       "      <td>0.969</td>\n",
       "      <td>0.836</td>\n",
       "      <td>0.898</td>\n",
       "    </tr>\n",
       "    <tr>\n",
       "      <td>Random Forest With Engineered Features</td>\n",
       "      <td>0.920</td>\n",
       "      <td>0.959</td>\n",
       "      <td>0.862</td>\n",
       "      <td>0.908</td>\n",
       "    </tr>\n",
       "    <tr>\n",
       "      <td>Logistic Regression</td>\n",
       "      <td>0.820</td>\n",
       "      <td>0.789</td>\n",
       "      <td>0.831</td>\n",
       "      <td>0.809</td>\n",
       "    </tr>\n",
       "  </tbody>\n",
       "</table>\n",
       "</div>"
      ],
      "text/plain": [
       "                                        Accuracy Score  Precision Score  \\\n",
       "Model                                                                     \n",
       "Decision Tree No Engineered Features             0.917            0.938   \n",
       "Random Forest No Engineered Features             0.939            0.961   \n",
       "Decision Tree With Engineered Features           0.912            0.969   \n",
       "Random Forest With Engineered Features           0.920            0.959   \n",
       "Logistic Regression                              0.820            0.789   \n",
       "\n",
       "                                        Recall Score  F1 Score  \n",
       "Model                                                           \n",
       "Decision Tree No Engineered Features           0.878     0.907  \n",
       "Random Forest No Engineered Features           0.905     0.932  \n",
       "Decision Tree With Engineered Features         0.836     0.898  \n",
       "Random Forest With Engineered Features         0.862     0.908  \n",
       "Logistic Regression                            0.831     0.809  "
      ]
     },
     "execution_count": 18,
     "metadata": {},
     "output_type": "execute_result"
    }
   ],
   "source": [
    "tree_no_eng_eval = functions.evaluate(y_test,y_pred_tree_no_eng,'Decision Tree No Engineered Features')\n",
    "forest_no_eng_eval = functions.evaluate(y_test,y_pred_forest_no_eng,'Random Forest No Engineered Features')\n",
    "tree_eng_eval = functions.evaluate(y_test,y_pred_tree_eng,'Decision Tree With Engineered Features')\n",
    "forest_eng_eval = functions.evaluate(y_test,y_pred_forest_eng,'Random Forest With Engineered Features')\n",
    "log_eval = functions.evaluate(y_test,y_pred_log,'Logistic Regression')\n",
    "\n",
    "results_weighted= pd.DataFrame()\n",
    "results_weighted= results_weighted.append([tree_no_eng_eval, forest_no_eng_eval, tree_eng_eval,\n",
    "                                        forest_eng_eval,log_eval])\n",
    "\n",
    "results_weighted.columns=[\"Model\", \"Accuracy Score\", \"Precision Score\", \"Recall Score\", \"F1 Score\"]\n",
    "\n",
    "results_weighted.set_index('Model')"
   ]
  },
  {
   "cell_type": "markdown",
   "metadata": {},
   "source": [
    "In this scenario we care mainly about the F1 score. There is no greater penalty for incorrectly classifying one genre over the other - it is equally embarrassing to dance a bachata step over a salsa song as it is the other way around. Thus, we see the random forest with no engineered features is the superior model here."
   ]
  },
  {
   "cell_type": "markdown",
   "metadata": {},
   "source": [
    "## Moving on with Random Forest Model\n",
    "\n",
    "The conditions for the best model (random forest w/ no engineered features): `{'criterion': 'entropy', 'max_depth': None, 'min_samples_leaf': 3, 'min_samples_split': 5, 'n_estimators': 30}`\n",
    "\n",
    "Let's generate a confusion matrix to begin to better understand the model and its limitations."
   ]
  },
  {
   "cell_type": "code",
   "execution_count": 19,
   "metadata": {},
   "outputs": [
    {
     "name": "stdout",
     "output_type": "stream",
     "text": [
      "[[214   7]\n",
      " [ 18 171]]\n"
     ]
    },
    {
     "data": {
      "image/png": "[encoded data removed]",
      "text/plain": [
       "<Figure size 864x576 with 2 Axes>"
      ]
     },
     "metadata": {
      "needs_background": "light"
     },
     "output_type": "display_data"
    }
   ],
   "source": [
    "functions.plot_cm(y_test,y_pred_forest_no_eng)"
   ]
  },
  {
   "cell_type": "markdown",
   "metadata": {},
   "source": [
    "We see that although the model performs well, it more often incorrectly classifies salsa songs as bachata rather than the other way around. Is this simply because there are more salsa songs in the test sample? We can take a closer look at feature importances to examine this."
   ]
  },
  {
   "cell_type": "code",
   "execution_count": 20,
   "metadata": {},
   "outputs": [
    {
     "data": {
      "image/png": "[encoded data removed]",
      "text/plain": [
       "<Figure size 576x576 with 1 Axes>"
      ]
     },
     "metadata": {
      "needs_background": "light"
     },
     "output_type": "display_data"
    }
   ],
   "source": [
    "functions.plot_feature_importances(forest_no_eng,X_train)"
   ]
  },
  {
   "cell_type": "markdown",
   "metadata": {},
   "source": [
    "Tempo, duration, danceability, and energy seem to be the top 4 predictors. I predict salsa songs incorrectly classified will simply exhibit traits of bachata songs in tempo, duration, danceability, and/or energy. Vice versa with bachata. "
   ]
  },
  {
   "cell_type": "code",
   "execution_count": 21,
   "metadata": {},
   "outputs": [
    {
     "data": {
      "text/html": [
       "<div>\n",
       "<style scoped>\n",
       "    .dataframe tbody tr th:only-of-type {\n",
       "        vertical-align: middle;\n",
       "    }\n",
       "\n",
       "    .dataframe tbody tr th {\n",
       "        vertical-align: top;\n",
       "    }\n",
       "\n",
       "    .dataframe thead th {\n",
       "        text-align: right;\n",
       "    }\n",
       "</style>\n",
       "<table border=\"1\" class=\"dataframe\">\n",
       "  <thead>\n",
       "    <tr style=\"text-align: right;\">\n",
       "      <th></th>\n",
       "      <th>danceability</th>\n",
       "      <th>energy</th>\n",
       "      <th>key</th>\n",
       "      <th>loudness</th>\n",
       "      <th>mode</th>\n",
       "      <th>speechiness</th>\n",
       "      <th>acousticness</th>\n",
       "      <th>instrumentalness</th>\n",
       "      <th>liveness</th>\n",
       "      <th>valence</th>\n",
       "      <th>tempo</th>\n",
       "      <th>duration_ms</th>\n",
       "      <th>track_name</th>\n",
       "      <th>album_name</th>\n",
       "      <th>artists</th>\n",
       "      <th>genre</th>\n",
       "    </tr>\n",
       "  </thead>\n",
       "  <tbody>\n",
       "    <tr>\n",
       "      <td>94</td>\n",
       "      <td>0.603</td>\n",
       "      <td>0.427</td>\n",
       "      <td>5</td>\n",
       "      <td>-12.174</td>\n",
       "      <td>0</td>\n",
       "      <td>0.0305</td>\n",
       "      <td>0.654</td>\n",
       "      <td>0.000239</td>\n",
       "      <td>0.672</td>\n",
       "      <td>0.602</td>\n",
       "      <td>116.610</td>\n",
       "      <td>160888</td>\n",
       "      <td>Obsesión</td>\n",
       "      <td>El Diablo de la Salsa: Muchos Más</td>\n",
       "      <td>[Oscar D'León]</td>\n",
       "      <td>salsa</td>\n",
       "    </tr>\n",
       "    <tr>\n",
       "      <td>1166</td>\n",
       "      <td>0.668</td>\n",
       "      <td>0.761</td>\n",
       "      <td>1</td>\n",
       "      <td>-6.618</td>\n",
       "      <td>0</td>\n",
       "      <td>0.0306</td>\n",
       "      <td>0.160</td>\n",
       "      <td>0.000000</td>\n",
       "      <td>0.159</td>\n",
       "      <td>0.725</td>\n",
       "      <td>102.040</td>\n",
       "      <td>258600</td>\n",
       "      <td>Close to You</td>\n",
       "      <td>Phase II</td>\n",
       "      <td>[Prince Royce]</td>\n",
       "      <td>bachata</td>\n",
       "    </tr>\n",
       "    <tr>\n",
       "      <td>104</td>\n",
       "      <td>0.651</td>\n",
       "      <td>0.645</td>\n",
       "      <td>7</td>\n",
       "      <td>-11.023</td>\n",
       "      <td>1</td>\n",
       "      <td>0.0370</td>\n",
       "      <td>0.627</td>\n",
       "      <td>0.000769</td>\n",
       "      <td>0.318</td>\n",
       "      <td>0.900</td>\n",
       "      <td>147.470</td>\n",
       "      <td>281600</td>\n",
       "      <td>Sandunguera</td>\n",
       "      <td>Hits del Double Play</td>\n",
       "      <td>[Oscar D'León]</td>\n",
       "      <td>salsa</td>\n",
       "    </tr>\n",
       "    <tr>\n",
       "      <td>655</td>\n",
       "      <td>0.726</td>\n",
       "      <td>0.705</td>\n",
       "      <td>9</td>\n",
       "      <td>-8.184</td>\n",
       "      <td>0</td>\n",
       "      <td>0.2740</td>\n",
       "      <td>0.518</td>\n",
       "      <td>0.000000</td>\n",
       "      <td>0.238</td>\n",
       "      <td>0.710</td>\n",
       "      <td>175.926</td>\n",
       "      <td>267787</td>\n",
       "      <td>Ella y Yo (feat. Don Omar)</td>\n",
       "      <td>Todavía Me Amas: Lo Mejor de Aventura</td>\n",
       "      <td>[Aventura]</td>\n",
       "      <td>bachata</td>\n",
       "    </tr>\n",
       "    <tr>\n",
       "      <td>526</td>\n",
       "      <td>0.765</td>\n",
       "      <td>0.719</td>\n",
       "      <td>10</td>\n",
       "      <td>-6.314</td>\n",
       "      <td>0</td>\n",
       "      <td>0.0488</td>\n",
       "      <td>0.296</td>\n",
       "      <td>0.000000</td>\n",
       "      <td>0.240</td>\n",
       "      <td>0.890</td>\n",
       "      <td>110.034</td>\n",
       "      <td>222267</td>\n",
       "      <td>Por Eso Estoy Contigo</td>\n",
       "      <td>Mi Ultima Grabacion</td>\n",
       "      <td>[Tito Nieves]</td>\n",
       "      <td>salsa</td>\n",
       "    </tr>\n",
       "  </tbody>\n",
       "</table>\n",
       "</div>"
      ],
      "text/plain": [
       "      danceability  energy  key  loudness  mode  speechiness  acousticness  \\\n",
       "94           0.603   0.427    5   -12.174     0       0.0305         0.654   \n",
       "1166         0.668   0.761    1    -6.618     0       0.0306         0.160   \n",
       "104          0.651   0.645    7   -11.023     1       0.0370         0.627   \n",
       "655          0.726   0.705    9    -8.184     0       0.2740         0.518   \n",
       "526          0.765   0.719   10    -6.314     0       0.0488         0.296   \n",
       "\n",
       "      instrumentalness  liveness  valence    tempo  duration_ms  \\\n",
       "94            0.000239     0.672    0.602  116.610       160888   \n",
       "1166          0.000000     0.159    0.725  102.040       258600   \n",
       "104           0.000769     0.318    0.900  147.470       281600   \n",
       "655           0.000000     0.238    0.710  175.926       267787   \n",
       "526           0.000000     0.240    0.890  110.034       222267   \n",
       "\n",
       "                      track_name                             album_name  \\\n",
       "94                      Obsesión      El Diablo de la Salsa: Muchos Más   \n",
       "1166                Close to You                               Phase II   \n",
       "104                  Sandunguera                   Hits del Double Play   \n",
       "655   Ella y Yo (feat. Don Omar)  Todavía Me Amas: Lo Mejor de Aventura   \n",
       "526        Por Eso Estoy Contigo                    Mi Ultima Grabacion   \n",
       "\n",
       "             artists    genre  \n",
       "94    [Oscar D'León]    salsa  \n",
       "1166  [Prince Royce]  bachata  \n",
       "104   [Oscar D'León]    salsa  \n",
       "655       [Aventura]  bachata  \n",
       "526    [Tito Nieves]    salsa  "
      ]
     },
     "execution_count": 21,
     "metadata": {},
     "output_type": "execute_result"
    }
   ],
   "source": [
    "# reshape test values\n",
    "test_values = (y_test.values).reshape(1,-1)[0]\n",
    "\n",
    "# find list indices of incorrect predictions\n",
    "wrong_pred_indices = [i for i in range(len(test_values)) if test_values[i] != y_pred_forest_no_eng[i]]\n",
    "\n",
    "# find dataframe indices of incorrect predictions \n",
    "df_indices = y_test.reset_index().iloc[wrong_pred_indices,:]['index'].values\n",
    "\n",
    "# Select only the columns we want to inspect\n",
    "columns = ['danceability', 'energy', 'key', 'loudness', 'mode', 'speechiness',\n",
    "           'acousticness', 'instrumentalness', 'liveness', 'valence', 'tempo',\n",
    "           'duration_ms', 'track_name', 'album_name', 'artists', 'genre']\n",
    "\n",
    "# Create dataframe that includes ONLY songs that were incorrectly classified\n",
    "incorrect_df = df.loc[df_indices,columns]\n",
    "\n",
    "incorrect_df.head()"
   ]
  },
  {
   "cell_type": "code",
   "execution_count": 22,
   "metadata": {},
   "outputs": [
    {
     "data": {
      "text/html": [
       "<div>\n",
       "<style scoped>\n",
       "    .dataframe tbody tr th:only-of-type {\n",
       "        vertical-align: middle;\n",
       "    }\n",
       "\n",
       "    .dataframe tbody tr th {\n",
       "        vertical-align: top;\n",
       "    }\n",
       "\n",
       "    .dataframe thead th {\n",
       "        text-align: right;\n",
       "    }\n",
       "</style>\n",
       "<table border=\"1\" class=\"dataframe\">\n",
       "  <thead>\n",
       "    <tr style=\"text-align: right;\">\n",
       "      <th></th>\n",
       "      <th>Tempo - Full Dataset</th>\n",
       "      <th>Tempo - Incorrect Predictions</th>\n",
       "    </tr>\n",
       "    <tr>\n",
       "      <th>genre</th>\n",
       "      <th></th>\n",
       "      <th></th>\n",
       "    </tr>\n",
       "  </thead>\n",
       "  <tbody>\n",
       "    <tr>\n",
       "      <td>bachata</td>\n",
       "      <td>126.399211</td>\n",
       "      <td>130.296714</td>\n",
       "    </tr>\n",
       "    <tr>\n",
       "      <td>salsa</td>\n",
       "      <td>111.137073</td>\n",
       "      <td>130.785611</td>\n",
       "    </tr>\n",
       "  </tbody>\n",
       "</table>\n",
       "</div>"
      ],
      "text/plain": [
       "         Tempo - Full Dataset  Tempo - Incorrect Predictions\n",
       "genre                                                       \n",
       "bachata            126.399211                     130.296714\n",
       "salsa              111.137073                     130.785611"
      ]
     },
     "execution_count": 22,
     "metadata": {},
     "output_type": "execute_result"
    }
   ],
   "source": [
    "tempo_comp = pd.concat([pd.DataFrame(df.groupby('genre').agg({'tempo':'mean'})),pd.DataFrame(incorrect_df.groupby('genre').agg({'tempo':'mean'}))],axis=1)\n",
    "tempo_comp.columns = ['Tempo - Full Dataset','Tempo - Incorrect Predictions']\n",
    "tempo_comp"
   ]
  },
  {
   "cell_type": "code",
   "execution_count": 23,
   "metadata": {},
   "outputs": [
    {
     "data": {
      "text/html": [
       "<div>\n",
       "<style scoped>\n",
       "    .dataframe tbody tr th:only-of-type {\n",
       "        vertical-align: middle;\n",
       "    }\n",
       "\n",
       "    .dataframe tbody tr th {\n",
       "        vertical-align: top;\n",
       "    }\n",
       "\n",
       "    .dataframe thead th {\n",
       "        text-align: right;\n",
       "    }\n",
       "</style>\n",
       "<table border=\"1\" class=\"dataframe\">\n",
       "  <thead>\n",
       "    <tr style=\"text-align: right;\">\n",
       "      <th></th>\n",
       "      <th>Duration - Full Dataset</th>\n",
       "      <th>Duration - Incorrect Predictions</th>\n",
       "    </tr>\n",
       "    <tr>\n",
       "      <th>genre</th>\n",
       "      <th></th>\n",
       "      <th></th>\n",
       "    </tr>\n",
       "  </thead>\n",
       "  <tbody>\n",
       "    <tr>\n",
       "      <td>bachata</td>\n",
       "      <td>244339.291156</td>\n",
       "      <td>296536.142857</td>\n",
       "    </tr>\n",
       "    <tr>\n",
       "      <td>salsa</td>\n",
       "      <td>275220.996820</td>\n",
       "      <td>233145.833333</td>\n",
       "    </tr>\n",
       "  </tbody>\n",
       "</table>\n",
       "</div>"
      ],
      "text/plain": [
       "         Duration - Full Dataset  Duration - Incorrect Predictions\n",
       "genre                                                             \n",
       "bachata            244339.291156                     296536.142857\n",
       "salsa              275220.996820                     233145.833333"
      ]
     },
     "execution_count": 23,
     "metadata": {},
     "output_type": "execute_result"
    }
   ],
   "source": [
    "duration_comp = pd.concat([pd.DataFrame(df.groupby('genre').agg({'duration_ms':'mean'})),pd.DataFrame(incorrect_df.groupby('genre').agg({'duration_ms':'mean'}))],axis=1)\n",
    "duration_comp.columns = ['Duration - Full Dataset','Duration - Incorrect Predictions']\n",
    "duration_comp"
   ]
  },
  {
   "cell_type": "code",
   "execution_count": 24,
   "metadata": {},
   "outputs": [
    {
     "data": {
      "text/html": [
       "<div>\n",
       "<style scoped>\n",
       "    .dataframe tbody tr th:only-of-type {\n",
       "        vertical-align: middle;\n",
       "    }\n",
       "\n",
       "    .dataframe tbody tr th {\n",
       "        vertical-align: top;\n",
       "    }\n",
       "\n",
       "    .dataframe thead th {\n",
       "        text-align: right;\n",
       "    }\n",
       "</style>\n",
       "<table border=\"1\" class=\"dataframe\">\n",
       "  <thead>\n",
       "    <tr style=\"text-align: right;\">\n",
       "      <th></th>\n",
       "      <th>Danceability - Full Dataset</th>\n",
       "      <th>Danceability - Incorrect Predictions</th>\n",
       "    </tr>\n",
       "    <tr>\n",
       "      <th>genre</th>\n",
       "      <th></th>\n",
       "      <th></th>\n",
       "    </tr>\n",
       "  </thead>\n",
       "  <tbody>\n",
       "    <tr>\n",
       "      <td>bachata</td>\n",
       "      <td>0.755850</td>\n",
       "      <td>0.681286</td>\n",
       "    </tr>\n",
       "    <tr>\n",
       "      <td>salsa</td>\n",
       "      <td>0.702728</td>\n",
       "      <td>0.713833</td>\n",
       "    </tr>\n",
       "  </tbody>\n",
       "</table>\n",
       "</div>"
      ],
      "text/plain": [
       "         Danceability - Full Dataset  Danceability - Incorrect Predictions\n",
       "genre                                                                     \n",
       "bachata                     0.755850                              0.681286\n",
       "salsa                       0.702728                              0.713833"
      ]
     },
     "execution_count": 24,
     "metadata": {},
     "output_type": "execute_result"
    }
   ],
   "source": [
    "danceability_comp = pd.concat([pd.DataFrame(df.groupby('genre').agg({'danceability':'mean'})),pd.DataFrame(incorrect_df.groupby('genre').agg({'danceability':'mean'}))],axis=1)\n",
    "danceability_comp.columns = ['Danceability - Full Dataset','Danceability - Incorrect Predictions']\n",
    "danceability_comp"
   ]
  },
  {
   "cell_type": "code",
   "execution_count": 25,
   "metadata": {},
   "outputs": [
    {
     "data": {
      "text/html": [
       "<div>\n",
       "<style scoped>\n",
       "    .dataframe tbody tr th:only-of-type {\n",
       "        vertical-align: middle;\n",
       "    }\n",
       "\n",
       "    .dataframe tbody tr th {\n",
       "        vertical-align: top;\n",
       "    }\n",
       "\n",
       "    .dataframe thead th {\n",
       "        text-align: right;\n",
       "    }\n",
       "</style>\n",
       "<table border=\"1\" class=\"dataframe\">\n",
       "  <thead>\n",
       "    <tr style=\"text-align: right;\">\n",
       "      <th></th>\n",
       "      <th>Energy - Full Dataset</th>\n",
       "      <th>Energy - Incorrect Predictions</th>\n",
       "    </tr>\n",
       "    <tr>\n",
       "      <th>genre</th>\n",
       "      <th></th>\n",
       "      <th></th>\n",
       "    </tr>\n",
       "  </thead>\n",
       "  <tbody>\n",
       "    <tr>\n",
       "      <td>bachata</td>\n",
       "      <td>0.678786</td>\n",
       "      <td>0.751143</td>\n",
       "    </tr>\n",
       "    <tr>\n",
       "      <td>salsa</td>\n",
       "      <td>0.747730</td>\n",
       "      <td>0.660889</td>\n",
       "    </tr>\n",
       "  </tbody>\n",
       "</table>\n",
       "</div>"
      ],
      "text/plain": [
       "         Energy - Full Dataset  Energy - Incorrect Predictions\n",
       "genre                                                         \n",
       "bachata               0.678786                        0.751143\n",
       "salsa                 0.747730                        0.660889"
      ]
     },
     "execution_count": 25,
     "metadata": {},
     "output_type": "execute_result"
    }
   ],
   "source": [
    "energy_comp = pd.concat([pd.DataFrame(df.groupby('genre').agg({'energy':'mean'})),pd.DataFrame(incorrect_df.groupby('genre').agg({'energy':'mean'}))],axis=1)\n",
    "energy_comp.columns = ['Energy - Full Dataset','Energy - Incorrect Predictions']\n",
    "energy_comp"
   ]
  },
  {
   "cell_type": "markdown",
   "metadata": {},
   "source": [
    "The average tempo for bachata in the full data set is higher than that of salsa. However, the average tempo of salsa songs that were incorrectly classified as bachata is above that of the average for bachata in the full data set. This means that the greatest predictor for the model, tempo, was leading it to strongly believe the song is actually bachata.\n",
    "\n",
    "I should note that in reality, salsa songs are much faster than bachata. Thus, we find another error in Spotify's audio analysis algorithms - it actually incorrectly assigns many song tempos to half time. For example, this means they classify songs that might be in the range of 180 - 220 bpm as being 90 - 110 bpm. Fortunately, it's still not a huge issue as we see the model achieves an F1 of roughly 94%. That being said, the model could be improved by either writing my own algorithm to analyze tempo and other features, or by Spotify improving its own algorithms.\n",
    "\n",
    "Similar issues are present with the other top predictors. In general, I believe they would all be improved by Spotify improving its audio analysis algorithms. Is this really necessary though if we already have such a robust model? For our purposes, maybe not. However, if I were to expand this to a multi class problem it would be imperative for all of the audio features to be correct."
   ]
  }
 ],
 "metadata": {
  "kernelspec": {
   "display_name": "Python 3",
   "language": "python",
   "name": "python3"
  },
  "language_info": {
   "codemirror_mode": {
    "name": "ipython",
    "version": 3
   },
   "file_extension": ".py",
   "mimetype": "text/x-python",
   "name": "python",
   "nbconvert_exporter": "python",
   "pygments_lexer": "ipython3",
   "version": "3.7.4"
  },
  "varInspector": {
   "cols": {
    "lenName": 16,
    "lenType": 16,
    "lenVar": 40
   },
   "kernels_config": {
    "python": {
     "delete_cmd_postfix": "",
     "delete_cmd_prefix": "del ",
     "library": "var_list.py",
     "varRefreshCmd": "print(var_dic_list())"
    },
    "r": {
     "delete_cmd_postfix": ") ",
     "delete_cmd_prefix": "rm(",
     "library": "var_list.r",
     "varRefreshCmd": "cat(var_dic_list()) "
    }
   },
   "types_to_exclude": [
    "module",
    "function",
    "builtin_function_or_method",
    "instance",
    "_Feature"
   ],
   "window_display": false
  }
 },
 "nbformat": 4,
 "nbformat_minor": 2
}
